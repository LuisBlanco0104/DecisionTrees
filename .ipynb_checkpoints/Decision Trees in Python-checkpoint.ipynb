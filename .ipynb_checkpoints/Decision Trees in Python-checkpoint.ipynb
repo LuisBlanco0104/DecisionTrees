{
 "cells": [
  {
   "cell_type": "markdown",
   "metadata": {},
   "source": [
    "# Decision Trees with Python:\n",
    "## Tutorial from start to finnish\n",
    "\n",
    "In the followin notebook we will learn everything there is to know about decision trees using **python.sklearn**\n",
    "\n",
    "This will be divided in the following sections:\n",
    "- Import data\n",
    "- Identifying missing data \n",
    "- Dealing with missing data\n",
    "- Format data: X and y\n",
    "- Format data: One-Hot coding\n",
    "- Build preliminary Tree\n",
    "- Visualize Alpha\n",
    "- Cross validation\n",
    "- Build and Draw Final Tree"
   ]
  },
  {
   "cell_type": "code",
   "execution_count": 1,
   "metadata": {},
   "outputs": [],
   "source": [
    "import numpy as np\n",
    "import pandas as pd\n",
    "import matplotlib.pyplot as plt\n",
    "from sklearn.tree import DecisionTreeClassifier, plot_tree\n",
    "from sklearn.model_selection import train_test_split, cross_val_score\n",
    "from sklearn.metrics import confusion_matrix, plot_confusion_matrix, accuracy_score, roc_auc_score"
   ]
  },
  {
   "cell_type": "markdown",
   "metadata": {},
   "source": [
    "***\n",
    "\n",
    "## Import Data\n",
    "\n",
    "Now we load in a dataset from the <a href=http://archive.ics.uci.edu/ml/datasets.php>**UCI Machine Learning Repository**</a>. Specifically the <a href=http://archive.ics.uci.edu/ml/datasets/Heart+Disease >**Heart disease Dataset**</a>. This dataset will allow us to predict if someone has heart disease based on their sex, age, blood pressure and a variety of other metrics.\n",
    "\n",
    "**Note:** if in need you can read it directly from the link using:\n",
    "\n",
    "*df = pd.read_csv(\"http://archive.ics.uci.edu/ml/machine-learning-databases/heart-disease/processed.cleveland.data\", header=None)*"
   ]
  },
  {
   "cell_type": "code",
   "execution_count": 2,
   "metadata": {},
   "outputs": [
    {
     "data": {
      "text/html": [
       "<div>\n",
       "<style scoped>\n",
       "    .dataframe tbody tr th:only-of-type {\n",
       "        vertical-align: middle;\n",
       "    }\n",
       "\n",
       "    .dataframe tbody tr th {\n",
       "        vertical-align: top;\n",
       "    }\n",
       "\n",
       "    .dataframe thead th {\n",
       "        text-align: right;\n",
       "    }\n",
       "</style>\n",
       "<table border=\"1\" class=\"dataframe\">\n",
       "  <thead>\n",
       "    <tr style=\"text-align: right;\">\n",
       "      <th></th>\n",
       "      <th>0</th>\n",
       "      <th>1</th>\n",
       "      <th>2</th>\n",
       "      <th>3</th>\n",
       "      <th>4</th>\n",
       "      <th>5</th>\n",
       "      <th>6</th>\n",
       "      <th>7</th>\n",
       "      <th>8</th>\n",
       "      <th>9</th>\n",
       "      <th>10</th>\n",
       "      <th>11</th>\n",
       "      <th>12</th>\n",
       "      <th>13</th>\n",
       "    </tr>\n",
       "  </thead>\n",
       "  <tbody>\n",
       "    <tr>\n",
       "      <th>0</th>\n",
       "      <td>63.0</td>\n",
       "      <td>1.0</td>\n",
       "      <td>1.0</td>\n",
       "      <td>145.0</td>\n",
       "      <td>233.0</td>\n",
       "      <td>1.0</td>\n",
       "      <td>2.0</td>\n",
       "      <td>150.0</td>\n",
       "      <td>0.0</td>\n",
       "      <td>2.3</td>\n",
       "      <td>3.0</td>\n",
       "      <td>0.0</td>\n",
       "      <td>6.0</td>\n",
       "      <td>0</td>\n",
       "    </tr>\n",
       "    <tr>\n",
       "      <th>1</th>\n",
       "      <td>67.0</td>\n",
       "      <td>1.0</td>\n",
       "      <td>4.0</td>\n",
       "      <td>160.0</td>\n",
       "      <td>286.0</td>\n",
       "      <td>0.0</td>\n",
       "      <td>2.0</td>\n",
       "      <td>108.0</td>\n",
       "      <td>1.0</td>\n",
       "      <td>1.5</td>\n",
       "      <td>2.0</td>\n",
       "      <td>3.0</td>\n",
       "      <td>3.0</td>\n",
       "      <td>2</td>\n",
       "    </tr>\n",
       "    <tr>\n",
       "      <th>2</th>\n",
       "      <td>67.0</td>\n",
       "      <td>1.0</td>\n",
       "      <td>4.0</td>\n",
       "      <td>120.0</td>\n",
       "      <td>229.0</td>\n",
       "      <td>0.0</td>\n",
       "      <td>2.0</td>\n",
       "      <td>129.0</td>\n",
       "      <td>1.0</td>\n",
       "      <td>2.6</td>\n",
       "      <td>2.0</td>\n",
       "      <td>2.0</td>\n",
       "      <td>7.0</td>\n",
       "      <td>1</td>\n",
       "    </tr>\n",
       "    <tr>\n",
       "      <th>3</th>\n",
       "      <td>37.0</td>\n",
       "      <td>1.0</td>\n",
       "      <td>3.0</td>\n",
       "      <td>130.0</td>\n",
       "      <td>250.0</td>\n",
       "      <td>0.0</td>\n",
       "      <td>0.0</td>\n",
       "      <td>187.0</td>\n",
       "      <td>0.0</td>\n",
       "      <td>3.5</td>\n",
       "      <td>3.0</td>\n",
       "      <td>0.0</td>\n",
       "      <td>3.0</td>\n",
       "      <td>0</td>\n",
       "    </tr>\n",
       "    <tr>\n",
       "      <th>4</th>\n",
       "      <td>41.0</td>\n",
       "      <td>0.0</td>\n",
       "      <td>2.0</td>\n",
       "      <td>130.0</td>\n",
       "      <td>204.0</td>\n",
       "      <td>0.0</td>\n",
       "      <td>2.0</td>\n",
       "      <td>172.0</td>\n",
       "      <td>0.0</td>\n",
       "      <td>1.4</td>\n",
       "      <td>1.0</td>\n",
       "      <td>0.0</td>\n",
       "      <td>3.0</td>\n",
       "      <td>0</td>\n",
       "    </tr>\n",
       "  </tbody>\n",
       "</table>\n",
       "</div>"
      ],
      "text/plain": [
       "     0    1    2      3      4    5    6      7    8    9    10   11   12  13\n",
       "0  63.0  1.0  1.0  145.0  233.0  1.0  2.0  150.0  0.0  2.3  3.0  0.0  6.0   0\n",
       "1  67.0  1.0  4.0  160.0  286.0  0.0  2.0  108.0  1.0  1.5  2.0  3.0  3.0   2\n",
       "2  67.0  1.0  4.0  120.0  229.0  0.0  2.0  129.0  1.0  2.6  2.0  2.0  7.0   1\n",
       "3  37.0  1.0  3.0  130.0  250.0  0.0  0.0  187.0  0.0  3.5  3.0  0.0  3.0   0\n",
       "4  41.0  0.0  2.0  130.0  204.0  0.0  2.0  172.0  0.0  1.4  1.0  0.0  3.0   0"
      ]
     },
     "execution_count": 2,
     "metadata": {},
     "output_type": "execute_result"
    }
   ],
   "source": [
    "df = pd.read_csv(\"Heart_disease_data/processed.cleveland.data\", header=None)\n",
    "df.head()"
   ]
  },
  {
   "cell_type": "markdown",
   "metadata": {},
   "source": [
    "We see that instead of nice colum names we just have colum numbers. Since nice colum name would make it easier we will change them to format the data according to the description in: http://archive.ics.uci.edu/ml/datasets/Heart+Disease\n",
    "       \n",
    "        \n",
    "| Variable | Explenation | Values |\n",
    "| --- | --- | --- |\n",
    "| age | age in years | float |\n",
    "| sex | Male or female| 1, 0 respt. |\n",
    "| cp | Cheast pain type | 1 = typical angina, = atypical angina,  = non-anginal pain, 4 = asymptomatic |\n",
    "| restbps | resting blood pressure | mm Hg |\n",
    "| chol | serum cholestoral |  mg/dl|\n",
    "| fbs | (fasting blood sugar > 120 mg/dl) (True or False)  | 1, 0 |\n",
    "| restecg | resting electrocardiographic results | 0 = Normal, 1 = abnormality, 2 = left ventricular hypertrophy |\n",
    "| thalach| maximum heart rate achieved | float |\n",
    "| exang | exercise induced angina  | 1, 0 (yes, no) |\n",
    "| oldpeak | ST depression induced by exercise relative to rest|  Float |\n",
    "| slope | the slope of the peak exercise ST segment | 1 = unslopping, 2 = flat, 3= dwonslopping |\n",
    "| ca | number of major vessels (0-3) colored by flourosopy | 0, 1, 2, 3 |\n",
    "| thal | Thal | 3 = normal; 6 = fixed defect; 7 = reversable defect |\n",
    "| hd| diagnosis of heart disease (angiographic disease status) | 0: < 50% diameter narrowing, 1: > 50% diameter narrowing |"
   ]
  },
  {
   "cell_type": "code",
   "execution_count": 3,
   "metadata": {},
   "outputs": [
    {
     "data": {
      "text/html": [
       "<div>\n",
       "<style scoped>\n",
       "    .dataframe tbody tr th:only-of-type {\n",
       "        vertical-align: middle;\n",
       "    }\n",
       "\n",
       "    .dataframe tbody tr th {\n",
       "        vertical-align: top;\n",
       "    }\n",
       "\n",
       "    .dataframe thead th {\n",
       "        text-align: right;\n",
       "    }\n",
       "</style>\n",
       "<table border=\"1\" class=\"dataframe\">\n",
       "  <thead>\n",
       "    <tr style=\"text-align: right;\">\n",
       "      <th></th>\n",
       "      <th>age</th>\n",
       "      <th>sex</th>\n",
       "      <th>cp</th>\n",
       "      <th>restcp</th>\n",
       "      <th>chol</th>\n",
       "      <th>fbs</th>\n",
       "      <th>restcg</th>\n",
       "      <th>thalach</th>\n",
       "      <th>exang</th>\n",
       "      <th>oldpeak</th>\n",
       "      <th>slope</th>\n",
       "      <th>ca</th>\n",
       "      <th>thal</th>\n",
       "      <th>hd</th>\n",
       "    </tr>\n",
       "  </thead>\n",
       "  <tbody>\n",
       "    <tr>\n",
       "      <th>0</th>\n",
       "      <td>63.0</td>\n",
       "      <td>1.0</td>\n",
       "      <td>1.0</td>\n",
       "      <td>145.0</td>\n",
       "      <td>233.0</td>\n",
       "      <td>1.0</td>\n",
       "      <td>2.0</td>\n",
       "      <td>150.0</td>\n",
       "      <td>0.0</td>\n",
       "      <td>2.3</td>\n",
       "      <td>3.0</td>\n",
       "      <td>0.0</td>\n",
       "      <td>6.0</td>\n",
       "      <td>0</td>\n",
       "    </tr>\n",
       "    <tr>\n",
       "      <th>1</th>\n",
       "      <td>67.0</td>\n",
       "      <td>1.0</td>\n",
       "      <td>4.0</td>\n",
       "      <td>160.0</td>\n",
       "      <td>286.0</td>\n",
       "      <td>0.0</td>\n",
       "      <td>2.0</td>\n",
       "      <td>108.0</td>\n",
       "      <td>1.0</td>\n",
       "      <td>1.5</td>\n",
       "      <td>2.0</td>\n",
       "      <td>3.0</td>\n",
       "      <td>3.0</td>\n",
       "      <td>2</td>\n",
       "    </tr>\n",
       "    <tr>\n",
       "      <th>2</th>\n",
       "      <td>67.0</td>\n",
       "      <td>1.0</td>\n",
       "      <td>4.0</td>\n",
       "      <td>120.0</td>\n",
       "      <td>229.0</td>\n",
       "      <td>0.0</td>\n",
       "      <td>2.0</td>\n",
       "      <td>129.0</td>\n",
       "      <td>1.0</td>\n",
       "      <td>2.6</td>\n",
       "      <td>2.0</td>\n",
       "      <td>2.0</td>\n",
       "      <td>7.0</td>\n",
       "      <td>1</td>\n",
       "    </tr>\n",
       "    <tr>\n",
       "      <th>3</th>\n",
       "      <td>37.0</td>\n",
       "      <td>1.0</td>\n",
       "      <td>3.0</td>\n",
       "      <td>130.0</td>\n",
       "      <td>250.0</td>\n",
       "      <td>0.0</td>\n",
       "      <td>0.0</td>\n",
       "      <td>187.0</td>\n",
       "      <td>0.0</td>\n",
       "      <td>3.5</td>\n",
       "      <td>3.0</td>\n",
       "      <td>0.0</td>\n",
       "      <td>3.0</td>\n",
       "      <td>0</td>\n",
       "    </tr>\n",
       "    <tr>\n",
       "      <th>4</th>\n",
       "      <td>41.0</td>\n",
       "      <td>0.0</td>\n",
       "      <td>2.0</td>\n",
       "      <td>130.0</td>\n",
       "      <td>204.0</td>\n",
       "      <td>0.0</td>\n",
       "      <td>2.0</td>\n",
       "      <td>172.0</td>\n",
       "      <td>0.0</td>\n",
       "      <td>1.4</td>\n",
       "      <td>1.0</td>\n",
       "      <td>0.0</td>\n",
       "      <td>3.0</td>\n",
       "      <td>0</td>\n",
       "    </tr>\n",
       "  </tbody>\n",
       "</table>\n",
       "</div>"
      ],
      "text/plain": [
       "    age  sex   cp  restcp   chol  fbs  restcg  thalach  exang  oldpeak  slope  \\\n",
       "0  63.0  1.0  1.0   145.0  233.0  1.0     2.0    150.0    0.0      2.3    3.0   \n",
       "1  67.0  1.0  4.0   160.0  286.0  0.0     2.0    108.0    1.0      1.5    2.0   \n",
       "2  67.0  1.0  4.0   120.0  229.0  0.0     2.0    129.0    1.0      2.6    2.0   \n",
       "3  37.0  1.0  3.0   130.0  250.0  0.0     0.0    187.0    0.0      3.5    3.0   \n",
       "4  41.0  0.0  2.0   130.0  204.0  0.0     2.0    172.0    0.0      1.4    1.0   \n",
       "\n",
       "    ca thal  hd  \n",
       "0  0.0  6.0   0  \n",
       "1  3.0  3.0   2  \n",
       "2  2.0  7.0   1  \n",
       "3  0.0  3.0   0  \n",
       "4  0.0  3.0   0  "
      ]
     },
     "execution_count": 3,
     "metadata": {},
     "output_type": "execute_result"
    }
   ],
   "source": [
    "df.columns = ['age', 'sex', 'cp',\n",
    "              'restcp', 'chol', 'fbs',\n",
    "              'restcg', 'thalach', 'exang',\n",
    "              'oldpeak', 'slope', 'ca', 'thal', 'hd']\n",
    "df.head()"
   ]
  },
  {
   "cell_type": "markdown",
   "metadata": {},
   "source": [
    "***\n",
    "\n",
    "## Identifying Missing Data\n",
    "\n",
    "Unfortunatly the biggest part of any data analaysis project is making sure that the data is correctly formatted and fixxing it when it is not. The first part of this process is identifying and dealing with the meassing data.\n",
    "\n",
    "**Missing data** is simply a blank space or a surrogate value like **NA**, that indicates the we failed to collect data for one of the features. For example, if we forgot to ask someone's age or forgot to write it down, then we would have a blank space.\n",
    "\n",
    "There are two ways of dealing with missing data:\n",
    "\n",
    "   1. We can remove the rows that contain missing data. This is relatively easy to do but it wastes all of the other values that we collected. How big of a waste depends on how important the missing value is for the classification. \n",
    "   2. We can **impute** the values that are missing. In this context impute is just a fancy way of saying \"we can make an educated guess about what the value should be\". \n",
    "   \n",
    "First let's see what sort of data is in each column (take into account the follwoing table for panda data types):\n",
    "\n",
    "\n",
    "| dtype | Python type | Usage |\n",
    "| --- | --- | --- |\n",
    "| object | str or mixed | Text or mixed numeric and non-numeric values |\n",
    "| int64 | int | Integer numbers|\n",
    "| float64 | float | Floating point numbers|\n",
    "| bool | bool | True/False values |\n",
    "| datetime64 | datetime |Date and time values|\n",
    "| timedelta[ns] | NA | Differences between two datetimes |\n",
    "| category | NA | Finite list of text values |\n",
    "\n",
    "\n",
    "We see that they are almost all `float64` but there are two `object` and one `int64`\n",
    "<div class=\"alert alert-block alert-warning\">\n",
    "    <b>Tip:</b> The fact that a column hast type <b>object</b>, suggests that there can be a mixture of things (like numbers and letters) or just letters and strings like: 'Yes', 'No'\n",
    "</div>\n"
   ]
  },
  {
   "cell_type": "code",
   "execution_count": 4,
   "metadata": {},
   "outputs": [
    {
     "data": {
      "text/plain": [
       "age        float64\n",
       "sex        float64\n",
       "cp         float64\n",
       "restcp     float64\n",
       "chol       float64\n",
       "fbs        float64\n",
       "restcg     float64\n",
       "thalach    float64\n",
       "exang      float64\n",
       "oldpeak    float64\n",
       "slope      float64\n",
       "ca          object\n",
       "thal        object\n",
       "hd           int64\n",
       "dtype: object"
      ]
     },
     "execution_count": 4,
     "metadata": {},
     "output_type": "execute_result"
    }
   ],
   "source": [
    "df.dtypes"
   ]
  },
  {
   "cell_type": "code",
   "execution_count": 5,
   "metadata": {},
   "outputs": [
    {
     "name": "stdout",
     "output_type": "stream",
     "text": [
      "['0.0' '3.0' '2.0' '1.0' '?'] : > We see that there are some question marks \"?\"\n",
      "['6.0' '3.0' '7.0' '?'] : > We see that there are some question marks \"?\"\n"
     ]
    }
   ],
   "source": [
    "print(df['ca'].unique(), ': > We see that there are some question marks \"?\"')\n",
    "print(df['thal'].unique(), ': > We see that there are some question marks \"?\"')"
   ]
  },
  {
   "cell_type": "markdown",
   "metadata": {},
   "source": [
    "***\n",
    "\n",
    "## Dealing w/ missing data\n",
    "\n",
    "Since Scickit-learn classification trees do not support data sets with missing values, we need to figure out a way to deal with those question marks."
   ]
  },
  {
   "cell_type": "code",
   "execution_count": 6,
   "metadata": {},
   "outputs": [
    {
     "name": "stdout",
     "output_type": "stream",
     "text": [
      "4 and 2\n",
      "Total number of rows: 303\n"
     ]
    }
   ],
   "source": [
    "md_ca = len(df.loc[df['ca']=='?'])\n",
    "md_thal = len(df.loc[df['thal']=='?'])\n",
    "print(md_ca,'and', md_thal)\n",
    "print('Total number of rows:', len(df))"
   ]
  },
  {
   "cell_type": "code",
   "execution_count": 7,
   "metadata": {},
   "outputs": [
    {
     "data": {
      "text/html": [
       "<div>\n",
       "<style scoped>\n",
       "    .dataframe tbody tr th:only-of-type {\n",
       "        vertical-align: middle;\n",
       "    }\n",
       "\n",
       "    .dataframe tbody tr th {\n",
       "        vertical-align: top;\n",
       "    }\n",
       "\n",
       "    .dataframe thead th {\n",
       "        text-align: right;\n",
       "    }\n",
       "</style>\n",
       "<table border=\"1\" class=\"dataframe\">\n",
       "  <thead>\n",
       "    <tr style=\"text-align: right;\">\n",
       "      <th></th>\n",
       "      <th>age</th>\n",
       "      <th>sex</th>\n",
       "      <th>cp</th>\n",
       "      <th>restcp</th>\n",
       "      <th>chol</th>\n",
       "      <th>fbs</th>\n",
       "      <th>restcg</th>\n",
       "      <th>thalach</th>\n",
       "      <th>exang</th>\n",
       "      <th>oldpeak</th>\n",
       "      <th>slope</th>\n",
       "      <th>ca</th>\n",
       "      <th>thal</th>\n",
       "      <th>hd</th>\n",
       "    </tr>\n",
       "  </thead>\n",
       "  <tbody>\n",
       "    <tr>\n",
       "      <th>87</th>\n",
       "      <td>53.0</td>\n",
       "      <td>0.0</td>\n",
       "      <td>3.0</td>\n",
       "      <td>128.0</td>\n",
       "      <td>216.0</td>\n",
       "      <td>0.0</td>\n",
       "      <td>2.0</td>\n",
       "      <td>115.0</td>\n",
       "      <td>0.0</td>\n",
       "      <td>0.0</td>\n",
       "      <td>1.0</td>\n",
       "      <td>0.0</td>\n",
       "      <td>?</td>\n",
       "      <td>0</td>\n",
       "    </tr>\n",
       "    <tr>\n",
       "      <th>166</th>\n",
       "      <td>52.0</td>\n",
       "      <td>1.0</td>\n",
       "      <td>3.0</td>\n",
       "      <td>138.0</td>\n",
       "      <td>223.0</td>\n",
       "      <td>0.0</td>\n",
       "      <td>0.0</td>\n",
       "      <td>169.0</td>\n",
       "      <td>0.0</td>\n",
       "      <td>0.0</td>\n",
       "      <td>1.0</td>\n",
       "      <td>?</td>\n",
       "      <td>3.0</td>\n",
       "      <td>0</td>\n",
       "    </tr>\n",
       "    <tr>\n",
       "      <th>192</th>\n",
       "      <td>43.0</td>\n",
       "      <td>1.0</td>\n",
       "      <td>4.0</td>\n",
       "      <td>132.0</td>\n",
       "      <td>247.0</td>\n",
       "      <td>1.0</td>\n",
       "      <td>2.0</td>\n",
       "      <td>143.0</td>\n",
       "      <td>1.0</td>\n",
       "      <td>0.1</td>\n",
       "      <td>2.0</td>\n",
       "      <td>?</td>\n",
       "      <td>7.0</td>\n",
       "      <td>1</td>\n",
       "    </tr>\n",
       "    <tr>\n",
       "      <th>266</th>\n",
       "      <td>52.0</td>\n",
       "      <td>1.0</td>\n",
       "      <td>4.0</td>\n",
       "      <td>128.0</td>\n",
       "      <td>204.0</td>\n",
       "      <td>1.0</td>\n",
       "      <td>0.0</td>\n",
       "      <td>156.0</td>\n",
       "      <td>1.0</td>\n",
       "      <td>1.0</td>\n",
       "      <td>2.0</td>\n",
       "      <td>0.0</td>\n",
       "      <td>?</td>\n",
       "      <td>2</td>\n",
       "    </tr>\n",
       "    <tr>\n",
       "      <th>287</th>\n",
       "      <td>58.0</td>\n",
       "      <td>1.0</td>\n",
       "      <td>2.0</td>\n",
       "      <td>125.0</td>\n",
       "      <td>220.0</td>\n",
       "      <td>0.0</td>\n",
       "      <td>0.0</td>\n",
       "      <td>144.0</td>\n",
       "      <td>0.0</td>\n",
       "      <td>0.4</td>\n",
       "      <td>2.0</td>\n",
       "      <td>?</td>\n",
       "      <td>7.0</td>\n",
       "      <td>0</td>\n",
       "    </tr>\n",
       "    <tr>\n",
       "      <th>302</th>\n",
       "      <td>38.0</td>\n",
       "      <td>1.0</td>\n",
       "      <td>3.0</td>\n",
       "      <td>138.0</td>\n",
       "      <td>175.0</td>\n",
       "      <td>0.0</td>\n",
       "      <td>0.0</td>\n",
       "      <td>173.0</td>\n",
       "      <td>0.0</td>\n",
       "      <td>0.0</td>\n",
       "      <td>1.0</td>\n",
       "      <td>?</td>\n",
       "      <td>3.0</td>\n",
       "      <td>0</td>\n",
       "    </tr>\n",
       "  </tbody>\n",
       "</table>\n",
       "</div>"
      ],
      "text/plain": [
       "      age  sex   cp  restcp   chol  fbs  restcg  thalach  exang  oldpeak  \\\n",
       "87   53.0  0.0  3.0   128.0  216.0  0.0     2.0    115.0    0.0      0.0   \n",
       "166  52.0  1.0  3.0   138.0  223.0  0.0     0.0    169.0    0.0      0.0   \n",
       "192  43.0  1.0  4.0   132.0  247.0  1.0     2.0    143.0    1.0      0.1   \n",
       "266  52.0  1.0  4.0   128.0  204.0  1.0     0.0    156.0    1.0      1.0   \n",
       "287  58.0  1.0  2.0   125.0  220.0  0.0     0.0    144.0    0.0      0.4   \n",
       "302  38.0  1.0  3.0   138.0  175.0  0.0     0.0    173.0    0.0      0.0   \n",
       "\n",
       "     slope   ca thal  hd  \n",
       "87     1.0  0.0    ?   0  \n",
       "166    1.0    ?  3.0   0  \n",
       "192    2.0    ?  7.0   1  \n",
       "266    2.0  0.0    ?   2  \n",
       "287    2.0    ?  7.0   0  \n",
       "302    1.0    ?  3.0   0  "
      ]
     },
     "execution_count": 7,
     "metadata": {},
     "output_type": "execute_result"
    }
   ],
   "source": [
    "df.loc[(df['ca']=='?')| (df['thal']=='?')]"
   ]
  },
  {
   "cell_type": "markdown",
   "metadata": {},
   "source": [
    "<div class=\"alert alert-block alert-info\">\n",
    "    So that means that 6 rows out of 303 contain missing data (2%). Let's just delete them. Since imput is another heavy topic, and we want to focus in <b>Decission Trees</b>\n",
    "</div>"
   ]
  },
  {
   "cell_type": "code",
   "execution_count": 8,
   "metadata": {},
   "outputs": [
    {
     "name": "stdout",
     "output_type": "stream",
     "text": [
      "297\n"
     ]
    }
   ],
   "source": [
    "df = df.loc[(df['ca']!='?')&(df['thal']!='?')]\n",
    "print(len(df))"
   ]
  },
  {
   "cell_type": "code",
   "execution_count": 9,
   "metadata": {},
   "outputs": [
    {
     "data": {
      "text/plain": [
       "age        float64\n",
       "sex        float64\n",
       "cp         float64\n",
       "restcp     float64\n",
       "chol       float64\n",
       "fbs        float64\n",
       "restcg     float64\n",
       "thalach    float64\n",
       "exang      float64\n",
       "oldpeak    float64\n",
       "slope      float64\n",
       "ca          object\n",
       "thal        object\n",
       "hd           int64\n",
       "dtype: object"
      ]
     },
     "execution_count": 9,
     "metadata": {},
     "output_type": "execute_result"
    }
   ],
   "source": [
    "df.dtypes"
   ]
  },
  {
   "cell_type": "markdown",
   "metadata": {},
   "source": [
    "**Note** that ca and thal still have the object dtype. That's ok. Now we will format the data for the classicfication tree."
   ]
  },
  {
   "cell_type": "markdown",
   "metadata": {},
   "source": [
    "***\n",
    "\n",
    "## Format Data: Split the data into Dependent and Independent variables \n",
    "### (X and y)\n",
    "\n",
    "Now we will start formatting the data for making a **Classification Tree**. \n",
    "The first step is to split the data into:\n",
    "    - X: Containing all the columns that are the attributes or independent variables.\n",
    "    - y: The dependent variable or variable that we want to predict. \n",
    "In this case we want to predict **hd** (Heart disease)."
   ]
  },
  {
   "cell_type": "code",
   "execution_count": 10,
   "metadata": {},
   "outputs": [],
   "source": [
    "X = df.drop(['hd'],axis=1)\n",
    "y = df['hd']"
   ]
  },
  {
   "cell_type": "markdown",
   "metadata": {},
   "source": [
    "***\n",
    "\n",
    "## Format the Data: One-Hot Encoding\n",
    "\n",
    "Now that we have split the dataframe into two pieces `X` and `y`, we need to take a closer look at the variables in `X` and format it so that it looks like this:\n",
    "\n",
    "| Variable | dtype | Values |\n",
    "| --- | --- | --- |\n",
    "| age | <font color='green'> **float**</font> | age in numbers|\n",
    "| sex | <font color='green'>**Category**</font>| 1, 0 (Male, Female) |\n",
    "| cp | <font color='red'>**Category**</font> | 1, 2, 3, 4 |\n",
    "| restbps | <font color='green'> **float**</font> | mm Hg |\n",
    "| chol | <font color='green'> **float**</font> |  mg/dl|\n",
    "| fbs | <font color='green'>**Category**</font> | 1, 0 (True, False) |\n",
    "| restecg | <font color='red'>**Category**</font> | 0, 1, 2 |\n",
    "| thalach| <font color='green'> **float**</font> | maximum heart rate achieved |\n",
    "| exang | <font color='green'>**Category**</font> | 1, 0 (yes, no) |\n",
    "| oldpeak | <font color='green'> **float**</font> |  ST depression |\n",
    "| slope | <font color='red'>**Category**</font> | 1, 2, 3 |\n",
    "| ca | <font color='red'>**Category**</font> | 0, 1, 2, 3 |\n",
    "| thal | <font color='red'>**Category**</font> | 2, 6, 7 |\n",
    "\n",
    "<div class=\"alert alert-block alert-warning\">\n",
    "    <b>Note:</b> Scickit-learn DT nativly supports continous data, like resting blood (restbp) but does NOT support categorical data like <b>chest pain (cp)</b> which contains 4 different categories. \n",
    "</div>\n",
    "\n",
    "\n",
    "<div class=\"alert alert-block alert-success\">\n",
    "    <b>To do:</b> Thus, in order to use categorical data with <b>Scikit-learn DT</b> we have to convert the column of categorical data into multiple columns of binary values (0,1). This trick is called <b>One-Hot Encoding</b>   \n",
    "</div>\n",
    "\n",
    "\n",
    "We use the build in function of pandas `get_dummies`, what it does is to vonvert the categorical values of the one Column and transform it into several columns of binery values with the corresponding names, for example:\n",
    "\n",
    "\n",
    "**thal** = 1 Column with values  2, 6, 7  ---- > `get_dummies` ----> 3 columns with values 1, 0\n",
    "named: **thal_2**, **thal_6**, **thal_7**."
   ]
  },
  {
   "cell_type": "code",
   "execution_count": 11,
   "metadata": {},
   "outputs": [
    {
     "data": {
      "text/html": [
       "<div>\n",
       "<style scoped>\n",
       "    .dataframe tbody tr th:only-of-type {\n",
       "        vertical-align: middle;\n",
       "    }\n",
       "\n",
       "    .dataframe tbody tr th {\n",
       "        vertical-align: top;\n",
       "    }\n",
       "\n",
       "    .dataframe thead th {\n",
       "        text-align: right;\n",
       "    }\n",
       "</style>\n",
       "<table border=\"1\" class=\"dataframe\">\n",
       "  <thead>\n",
       "    <tr style=\"text-align: right;\">\n",
       "      <th></th>\n",
       "      <th>age</th>\n",
       "      <th>sex</th>\n",
       "      <th>restcp</th>\n",
       "      <th>chol</th>\n",
       "      <th>fbs</th>\n",
       "      <th>thalach</th>\n",
       "      <th>exang</th>\n",
       "      <th>oldpeak</th>\n",
       "      <th>cp_1.0</th>\n",
       "      <th>cp_2.0</th>\n",
       "      <th>...</th>\n",
       "      <th>slope_1.0</th>\n",
       "      <th>slope_2.0</th>\n",
       "      <th>slope_3.0</th>\n",
       "      <th>ca_0.0</th>\n",
       "      <th>ca_1.0</th>\n",
       "      <th>ca_2.0</th>\n",
       "      <th>ca_3.0</th>\n",
       "      <th>thal_3.0</th>\n",
       "      <th>thal_6.0</th>\n",
       "      <th>thal_7.0</th>\n",
       "    </tr>\n",
       "  </thead>\n",
       "  <tbody>\n",
       "    <tr>\n",
       "      <th>0</th>\n",
       "      <td>63.0</td>\n",
       "      <td>1.0</td>\n",
       "      <td>145.0</td>\n",
       "      <td>233.0</td>\n",
       "      <td>1.0</td>\n",
       "      <td>150.0</td>\n",
       "      <td>0.0</td>\n",
       "      <td>2.3</td>\n",
       "      <td>1</td>\n",
       "      <td>0</td>\n",
       "      <td>...</td>\n",
       "      <td>0</td>\n",
       "      <td>0</td>\n",
       "      <td>1</td>\n",
       "      <td>1</td>\n",
       "      <td>0</td>\n",
       "      <td>0</td>\n",
       "      <td>0</td>\n",
       "      <td>0</td>\n",
       "      <td>1</td>\n",
       "      <td>0</td>\n",
       "    </tr>\n",
       "    <tr>\n",
       "      <th>1</th>\n",
       "      <td>67.0</td>\n",
       "      <td>1.0</td>\n",
       "      <td>160.0</td>\n",
       "      <td>286.0</td>\n",
       "      <td>0.0</td>\n",
       "      <td>108.0</td>\n",
       "      <td>1.0</td>\n",
       "      <td>1.5</td>\n",
       "      <td>0</td>\n",
       "      <td>0</td>\n",
       "      <td>...</td>\n",
       "      <td>0</td>\n",
       "      <td>1</td>\n",
       "      <td>0</td>\n",
       "      <td>0</td>\n",
       "      <td>0</td>\n",
       "      <td>0</td>\n",
       "      <td>1</td>\n",
       "      <td>1</td>\n",
       "      <td>0</td>\n",
       "      <td>0</td>\n",
       "    </tr>\n",
       "    <tr>\n",
       "      <th>2</th>\n",
       "      <td>67.0</td>\n",
       "      <td>1.0</td>\n",
       "      <td>120.0</td>\n",
       "      <td>229.0</td>\n",
       "      <td>0.0</td>\n",
       "      <td>129.0</td>\n",
       "      <td>1.0</td>\n",
       "      <td>2.6</td>\n",
       "      <td>0</td>\n",
       "      <td>0</td>\n",
       "      <td>...</td>\n",
       "      <td>0</td>\n",
       "      <td>1</td>\n",
       "      <td>0</td>\n",
       "      <td>0</td>\n",
       "      <td>0</td>\n",
       "      <td>1</td>\n",
       "      <td>0</td>\n",
       "      <td>0</td>\n",
       "      <td>0</td>\n",
       "      <td>1</td>\n",
       "    </tr>\n",
       "    <tr>\n",
       "      <th>3</th>\n",
       "      <td>37.0</td>\n",
       "      <td>1.0</td>\n",
       "      <td>130.0</td>\n",
       "      <td>250.0</td>\n",
       "      <td>0.0</td>\n",
       "      <td>187.0</td>\n",
       "      <td>0.0</td>\n",
       "      <td>3.5</td>\n",
       "      <td>0</td>\n",
       "      <td>0</td>\n",
       "      <td>...</td>\n",
       "      <td>0</td>\n",
       "      <td>0</td>\n",
       "      <td>1</td>\n",
       "      <td>1</td>\n",
       "      <td>0</td>\n",
       "      <td>0</td>\n",
       "      <td>0</td>\n",
       "      <td>1</td>\n",
       "      <td>0</td>\n",
       "      <td>0</td>\n",
       "    </tr>\n",
       "    <tr>\n",
       "      <th>4</th>\n",
       "      <td>41.0</td>\n",
       "      <td>0.0</td>\n",
       "      <td>130.0</td>\n",
       "      <td>204.0</td>\n",
       "      <td>0.0</td>\n",
       "      <td>172.0</td>\n",
       "      <td>0.0</td>\n",
       "      <td>1.4</td>\n",
       "      <td>0</td>\n",
       "      <td>1</td>\n",
       "      <td>...</td>\n",
       "      <td>1</td>\n",
       "      <td>0</td>\n",
       "      <td>0</td>\n",
       "      <td>1</td>\n",
       "      <td>0</td>\n",
       "      <td>0</td>\n",
       "      <td>0</td>\n",
       "      <td>1</td>\n",
       "      <td>0</td>\n",
       "      <td>0</td>\n",
       "    </tr>\n",
       "  </tbody>\n",
       "</table>\n",
       "<p>5 rows × 25 columns</p>\n",
       "</div>"
      ],
      "text/plain": [
       "    age  sex  restcp   chol  fbs  thalach  exang  oldpeak  cp_1.0  cp_2.0  \\\n",
       "0  63.0  1.0   145.0  233.0  1.0    150.0    0.0      2.3       1       0   \n",
       "1  67.0  1.0   160.0  286.0  0.0    108.0    1.0      1.5       0       0   \n",
       "2  67.0  1.0   120.0  229.0  0.0    129.0    1.0      2.6       0       0   \n",
       "3  37.0  1.0   130.0  250.0  0.0    187.0    0.0      3.5       0       0   \n",
       "4  41.0  0.0   130.0  204.0  0.0    172.0    0.0      1.4       0       1   \n",
       "\n",
       "   ...  slope_1.0  slope_2.0  slope_3.0  ca_0.0  ca_1.0  ca_2.0  ca_3.0  \\\n",
       "0  ...          0          0          1       1       0       0       0   \n",
       "1  ...          0          1          0       0       0       0       1   \n",
       "2  ...          0          1          0       0       0       1       0   \n",
       "3  ...          0          0          1       1       0       0       0   \n",
       "4  ...          1          0          0       1       0       0       0   \n",
       "\n",
       "   thal_3.0  thal_6.0  thal_7.0  \n",
       "0         0         1         0  \n",
       "1         1         0         0  \n",
       "2         0         0         1  \n",
       "3         1         0         0  \n",
       "4         1         0         0  \n",
       "\n",
       "[5 rows x 25 columns]"
      ]
     },
     "execution_count": 11,
     "metadata": {},
     "output_type": "execute_result"
    }
   ],
   "source": [
    "X_encoded = pd.get_dummies(X, columns= ['cp', 'restcg', 'slope', 'ca', 'thal'])\n",
    "X_encoded.head()"
   ]
  },
  {
   "cell_type": "markdown",
   "metadata": {},
   "source": [
    "### Formating y:\n",
    "\n",
    "If we look closely, our dependent variable `y` has 5 categorical values of heart disease being (**0**= No hd, and **1-4** different levels of hd). However in this moment we will build an easy DT weather a person has heart disease **1** or not **0**."
   ]
  },
  {
   "cell_type": "code",
   "execution_count": 12,
   "metadata": {},
   "outputs": [
    {
     "name": "stdout",
     "output_type": "stream",
     "text": [
      "Original values: [0 2 1 3 4]\n",
      "Final values: [0 1]\n"
     ]
    }
   ],
   "source": [
    "print('Original values:', y.unique())\n",
    "\n",
    "y_encoded = y.copy()\n",
    "y_index_Hd = y > 0 #gets the true or false for y > 0 (boolean)\n",
    "y_encoded[y_index_Hd] = 1 #in every index with hd (y>0) replace with 1\n",
    "\n",
    "print('Final values:', y_encoded.unique()) # Veryfing"
   ]
  },
  {
   "cell_type": "markdown",
   "metadata": {},
   "source": [
    "- Here I just deleate the original data and replace it with the final one for easier calculations later:"
   ]
  },
  {
   "cell_type": "code",
   "execution_count": 13,
   "metadata": {},
   "outputs": [],
   "source": [
    "X = X_encoded\n",
    "y = y_encoded"
   ]
  },
  {
   "cell_type": "markdown",
   "metadata": {},
   "source": [
    "***\n",
    "\n",
    "## Build a preliminary Classification Tree\n",
    "\n",
    "At long last, the data are correctly formatted for making a **Classification Tree**. Now we simply split the data into **training** and **Testing** sets and build the tree.\n",
    "\n",
    "\n",
    "<div class=\"alert alert-block alert-info\">\n",
    "    <b>Tip:</b> If you don't mention the <b>random_state</b> in the code, then whenever you execute your code a new random value is generated and the <b>train</b> and <b>test</b> datasets would have different values each time.\n",
    "</div>\n",
    "<div class=\"alert alert-block alert-info\">\n",
    "However, if you use a particular value for random_state(random_state = 1 or any other value) everytime the result will be same,i.e, same values in train and test datasets. I have seen random_state=42 used in many official examples of scikit as well as elsewhere also\n",
    "</div>"
   ]
  },
  {
   "cell_type": "code",
   "execution_count": 14,
   "metadata": {},
   "outputs": [],
   "source": [
    "X_train, X_test, y_train, y_test = train_test_split(X, y, test_size = 0.3, random_state=42)"
   ]
  },
  {
   "cell_type": "markdown",
   "metadata": {},
   "source": [
    "- Creating the DT and fit it to the training data:"
   ]
  },
  {
   "cell_type": "code",
   "execution_count": 15,
   "metadata": {},
   "outputs": [],
   "source": [
    "DT = DecisionTreeClassifier(random_state=42).fit(X_train, y_train)"
   ]
  },
  {
   "cell_type": "code",
   "execution_count": 16,
   "metadata": {},
   "outputs": [
    {
     "data": {
      "image/png": "[encoded data removed]",
      "text/plain": [
       "<Figure size 1080x540 with 1 Axes>"
      ]
     },
     "metadata": {
      "needs_background": "light"
     },
     "output_type": "display_data"
    }
   ],
   "source": [
    "plt.figure(figsize=(15,7.5))\n",
    "plot_tree(DT,\n",
    "          filled=True,\n",
    "          rounded=True,\n",
    "          class_names=['No Hd', 'Yes Hd'],\n",
    "          feature_names=X_encoded.columns); # ; is used for not showing the text parameters at the begining"
   ]
  },
  {
   "cell_type": "markdown",
   "metadata": {},
   "source": [
    "#### OK: We created a DT\n",
    "Now we want to know how it performs on the **Testing Dataset** by running the **Testing Dataset** down the tree and drawing a **Confusion MAtrix**."
   ]
  },
  {
   "cell_type": "code",
   "execution_count": 17,
   "metadata": {},
   "outputs": [
    {
     "name": "stdout",
     "output_type": "stream",
     "text": [
      "Accuracy: 0.7222222222222222\n"
     ]
    },
    {
     "data": {
      "image/png": "[encoded data removed]",
      "text/plain": [
       "<Figure size 432x288 with 2 Axes>"
      ]
     },
     "metadata": {
      "needs_background": "light"
     },
     "output_type": "display_data"
    }
   ],
   "source": [
    "plot_confusion_matrix(DT, X_test, y_test, display_labels=['No Hd', 'Yes Hd'])\n",
    "print('Accuracy:', accuracy_score(y_test, DT.predict(X_test)))"
   ]
  },
  {
   "cell_type": "markdown",
   "metadata": {},
   "source": [
    "In the confusion matrix we see that of the **33 + 16 = 49** people that did not have hd, **33** where correctly classified **(67.3%)** and from **9 + 32 = 41** people that did have hd, **32** where correctly classified **(78%)**. So overall there is a (33 + 32 / 90 = **72.22%** of accuracy) \n",
    "\n",
    "\n",
    "#### Can we do better?\n",
    "\n",
    "\n",
    "<div class=\"alert alert-block alert-success\">\n",
    "    <b>This is just the preliminary:</b> It is always important to make a preliminary DT, to look at the confusion matrix and them try to optimize it. Cause this is the <b>base</b> and the question is if we can improve on that. If we can then this original one was overfitted.\n",
    "</div>\n"
   ]
  },
  {
   "cell_type": "markdown",
   "metadata": {},
   "source": [
    "***\n",
    "\n",
    "## Cost complexity Prunning: Visualize alpha\n",
    "\n",
    "**Decission Trees** notorious for being **overfit** to the training dataset, and there are a lot of parameters like `max_depth`, `min_samples` etc.. that are designed to reduce overfitting. However, prunning a Tree with **cost complexity prunning** can simplify the whole process of finding a smaller tree that improves the accuracy with the **Training dataset**.\n",
    "\n",
    "Prunning a DT is all about finding the right value for the prunning parameter `alpha`which controls how little or how much prunning happens. One way to find the optimal value for `alpha` is to plot the `accuracy` of the tree vs `alpha` for both **Train** and **Test**.\n",
    "\n",
    "First, let's extract the different values of `alpha`that are available for this tree and build a prunned tree for each value. \n",
    "\n",
    "\n",
    "<div class=\"alert alert-block alert-warning\">\n",
    "    <b>Note:</b> we need also to exclude the maximum value of alpha <b>ccp_alphas = ccp_alphas[:-1]</b> because it would prune all leaves, leaving as wit only a root instead of a tree. \n",
    "</div>\n",
    "\n"
   ]
  },
  {
   "cell_type": "code",
   "execution_count": 18,
   "metadata": {},
   "outputs": [
    {
     "name": "stdout",
     "output_type": "stream",
     "text": [
      "DT added, alpha: 0.0\n",
      "DT added, alpha: 0.004347826086956523\n",
      "DT added, alpha: 0.004391743522178305\n",
      "DT added, alpha: 0.004459308807134892\n",
      "DT added, alpha: 0.004620877966813696\n",
      "DT added, alpha: 0.004764905332013082\n",
      "DT added, alpha: 0.0061981587822440955\n",
      "DT added, alpha: 0.00644122383252818\n",
      "DT added, alpha: 0.00644122383252818\n",
      "DT added, alpha: 0.007159668029233245\n",
      "DT added, alpha: 0.007246376811594203\n",
      "DT added, alpha: 0.007246376811594203\n",
      "DT added, alpha: 0.008670386201580883\n",
      "DT added, alpha: 0.008670556496643453\n",
      "DT added, alpha: 0.0093167701863354\n",
      "DT added, alpha: 0.0093167701863354\n",
      "DT added, alpha: 0.0095433283839081\n",
      "DT added, alpha: 0.009670200974548813\n",
      "DT added, alpha: 0.010570213468764193\n",
      "DT added, alpha: 0.012422360248447206\n",
      "DT added, alpha: 0.017614802561039117\n",
      "DT added, alpha: 0.022674051659558922\n",
      "DT added, alpha: 0.038582721981260434\n",
      "DT added, alpha: 0.04317077258253724\n"
     ]
    }
   ],
   "source": [
    "path = DT.cost_complexity_pruning_path(X_train, y_train)\n",
    "ccp_alphas = path.ccp_alphas[:-1]\n",
    "\n",
    "DTs = []\n",
    "# Now we crate one DT per ccp_alpha\n",
    "for i in ccp_alphas:\n",
    "    DT = DecisionTreeClassifier(random_state=0, ccp_alpha=i).fit(X_train, y_train)\n",
    "    DTs.append(DT)\n",
    "    print('DT added, alpha:', i)"
   ]
  },
  {
   "cell_type": "markdown",
   "metadata": {},
   "source": [
    "- Now we plot the scores or accuracies of every DT vs its corresponding alpha"
   ]
  },
  {
   "cell_type": "code",
   "execution_count": 19,
   "metadata": {},
   "outputs": [
    {
     "data": {
      "image/png": "[encoded data removed]",
      "text/plain": [
       "<Figure size 432x288 with 1 Axes>"
      ]
     },
     "metadata": {
      "needs_background": "light"
     },
     "output_type": "display_data"
    },
    {
     "name": "stdout",
     "output_type": "stream",
     "text": [
      "best alpha: 0.022674051659558922\n",
      "accuracy: 0.7888888888888889\n"
     ]
    }
   ],
   "source": [
    "train_scores = [DT.score(X_train, y_train) for DT in DTs]\n",
    "test_scores = [DT.score(X_test,y_test) for DT in DTs]\n",
    "\n",
    "plt.plot(ccp_alphas, train_scores, 'o-', label='train scores')\n",
    "plt.plot(ccp_alphas, test_scores, 'o-', label='test scores')\n",
    "plt.xlabel(r'$alpha$', size=12)\n",
    "plt.ylabel(r'$score$', size=12)\n",
    "plt.vlines(ccp_alphas[21], 0.69, 1, colors='k', linewidth=0.5)\n",
    "plt.hlines(DTs[21].score(X_test,y_test), 0, 0.05, colors='k', linewidth=0.5)\n",
    "plt.legend()\n",
    "plt.show()\n",
    "print('best alpha:', ccp_alphas[21])\n",
    "print('accuracy:', DTs[21].score(X_test,y_test))\n",
    "## Note: the build in function accuracy drops exactly the same result\n",
    "# train_acc = [accuracy_score(y_train, DT.predict(X_train)) for DT in DTs]\n",
    "# test_acc = [accuracy_score(y_test, DT.predict(X_test)) for DT in DTs]"
   ]
  },
  {
   "cell_type": "markdown",
   "metadata": {},
   "source": [
    "In the graph above we see that the accuracy for the Testing Dataset hits its maximum at `alpha = 0.0227`. After this value the accuracy of the Training Dataset drops off and suggests we should set that alpha.\n",
    "\n",
    "**NOTE:** we can apply **Cost_complexity_Prunning** to a DT values for alpha range from 0 - 1. because GINI scores go from 0 - 1. In contrast values for alpha in a regression tree can be much larger since the sum of squares residuals can go from 0 to possitive infinity.\n",
    "\n",
    "#### BUT: \n",
    "\n",
    "Since there are many ways we could have divided the original dataset into `X_test, X_train, y_test, y_train`, How do we know we used the best training and test dataset? \n",
    "\n",
    "Typically we answer this question with **10-Fold Cross Validation**. Using `cross_val_score()` \n",
    "\n",
    "***"
   ]
  },
  {
   "cell_type": "markdown",
   "metadata": {},
   "source": [
    "## Cost Complexity Prunning: Cross Validation for Finding the best alpha\n",
    "\n",
    "The graph above suggested one value for alpha (0.02267), but another set of data might suggest another alpha.\n",
    "\n",
    "First let's demonstrate that different training and test datasets result in trees with different accuracies when we set `ccp_alpha = 0.02267`. For that we will use `cross_val_score()`  to generate different training and test datasets and then train and test the trees whith those datasets."
   ]
  },
  {
   "cell_type": "code",
   "execution_count": 20,
   "metadata": {},
   "outputs": [
    {
     "data": {
      "text/html": [
       "<div>\n",
       "<style scoped>\n",
       "    .dataframe tbody tr th:only-of-type {\n",
       "        vertical-align: middle;\n",
       "    }\n",
       "\n",
       "    .dataframe tbody tr th {\n",
       "        vertical-align: top;\n",
       "    }\n",
       "\n",
       "    .dataframe thead th {\n",
       "        text-align: right;\n",
       "    }\n",
       "</style>\n",
       "<table border=\"1\" class=\"dataframe\">\n",
       "  <thead>\n",
       "    <tr style=\"text-align: right;\">\n",
       "      <th></th>\n",
       "      <th>tree</th>\n",
       "      <th>accuracy</th>\n",
       "    </tr>\n",
       "  </thead>\n",
       "  <tbody>\n",
       "    <tr>\n",
       "      <th>0</th>\n",
       "      <td>0</td>\n",
       "      <td>0.595238</td>\n",
       "    </tr>\n",
       "    <tr>\n",
       "      <th>1</th>\n",
       "      <td>1</td>\n",
       "      <td>0.833333</td>\n",
       "    </tr>\n",
       "    <tr>\n",
       "      <th>2</th>\n",
       "      <td>2</td>\n",
       "      <td>0.634146</td>\n",
       "    </tr>\n",
       "    <tr>\n",
       "      <th>3</th>\n",
       "      <td>3</td>\n",
       "      <td>0.853659</td>\n",
       "    </tr>\n",
       "    <tr>\n",
       "      <th>4</th>\n",
       "      <td>4</td>\n",
       "      <td>0.780488</td>\n",
       "    </tr>\n",
       "  </tbody>\n",
       "</table>\n",
       "</div>"
      ],
      "text/plain": [
       "   tree  accuracy\n",
       "0     0  0.595238\n",
       "1     1  0.833333\n",
       "2     2  0.634146\n",
       "3     3  0.853659\n",
       "4     4  0.780488"
      ]
     },
     "execution_count": 20,
     "metadata": {},
     "output_type": "execute_result"
    }
   ],
   "source": [
    "DT = DecisionTreeClassifier(random_state=0, ccp_alpha = 0.022674051659558922)\n",
    "\n",
    "# using 5 fold cross val meaning that it creates 5 different Train and Test datasets and then correlates\n",
    "scores = cross_val_score(DT, X_train, y_train, cv=5)\n",
    "df = pd.DataFrame(data={'tree': range(5), 'accuracy': scores})\n",
    "df\n",
    "#df.plot(x='tree', y='accuracy', marker='o', linestyle='--');"
   ]
  },
  {
   "cell_type": "markdown",
   "metadata": {},
   "source": [
    "\n",
    "<div class=\"alert alert-block alert-info\">\n",
    "    <b>Let's recap:</b> alpha is sensitive to the specific test and train datasets. So to solve this we need to use many divisions of test and train datasets. We do that bx using cross_val_score\n",
    "    \n",
    "</div>\n"
   ]
  },
  {
   "cell_type": "code",
   "execution_count": 21,
   "metadata": {},
   "outputs": [
    {
     "data": {
      "image/png": "[encoded data removed]",
      "text/plain": [
       "<Figure size 432x288 with 1 Axes>"
      ]
     },
     "metadata": {
      "needs_background": "light"
     },
     "output_type": "display_data"
    }
   ],
   "source": [
    "alpha_loop = []\n",
    "for i in ccp_alphas:\n",
    "    DT = DecisionTreeClassifier(random_state=0, ccp_alpha = i)\n",
    "    scores = cross_val_score(DT, X_train, y_train, cv=5)\n",
    "    alpha_loop.append([i, np.mean(scores), np.max(scores), np.std(scores)])\n",
    "\n",
    "alpha_results = pd.DataFrame(alpha_loop, columns=['alpha', 'mean_acc','max_acc', 'std'])\n",
    "alpha_results.plot(x='alpha', y=['mean_acc', 'max_acc'], marker='o', linestyle='--')\n",
    "plt.ylim(0.5,1);"
   ]
  },
  {
   "cell_type": "code",
   "execution_count": 22,
   "metadata": {},
   "outputs": [
    {
     "data": {
      "text/html": [
       "<div>\n",
       "<style scoped>\n",
       "    .dataframe tbody tr th:only-of-type {\n",
       "        vertical-align: middle;\n",
       "    }\n",
       "\n",
       "    .dataframe tbody tr th {\n",
       "        vertical-align: top;\n",
       "    }\n",
       "\n",
       "    .dataframe thead th {\n",
       "        text-align: right;\n",
       "    }\n",
       "</style>\n",
       "<table border=\"1\" class=\"dataframe\">\n",
       "  <thead>\n",
       "    <tr style=\"text-align: right;\">\n",
       "      <th></th>\n",
       "      <th>alpha</th>\n",
       "      <th>mean_acc</th>\n",
       "      <th>max_acc</th>\n",
       "      <th>std</th>\n",
       "    </tr>\n",
       "  </thead>\n",
       "  <tbody>\n",
       "    <tr>\n",
       "      <th>20</th>\n",
       "      <td>0.017615</td>\n",
       "      <td>0.773171</td>\n",
       "      <td>0.880952</td>\n",
       "      <td>0.093404</td>\n",
       "    </tr>\n",
       "  </tbody>\n",
       "</table>\n",
       "</div>"
      ],
      "text/plain": [
       "       alpha  mean_acc   max_acc       std\n",
       "20  0.017615  0.773171  0.880952  0.093404"
      ]
     },
     "execution_count": 22,
     "metadata": {},
     "output_type": "execute_result"
    }
   ],
   "source": [
    "alpha_results[(alpha_results['alpha']>0.015)&(alpha_results['alpha']<0.02)]"
   ]
  },
  {
   "cell_type": "markdown",
   "metadata": {},
   "source": [
    "- Now let's use that ideal value"
   ]
  },
  {
   "cell_type": "code",
   "execution_count": 23,
   "metadata": {},
   "outputs": [
    {
     "data": {
      "text/plain": [
       "0.017614802561039117"
      ]
     },
     "execution_count": 23,
     "metadata": {},
     "output_type": "execute_result"
    }
   ],
   "source": [
    "ideal_alpha = float(alpha_results[(alpha_results['alpha']>0.015)&(alpha_results['alpha']<0.02)]['alpha'])\n",
    "ideal_alpha"
   ]
  },
  {
   "cell_type": "markdown",
   "metadata": {},
   "source": [
    "***\n",
    "## Building, Evaluating, Drawing and Interpreting the Final Classification Tree"
   ]
  },
  {
   "cell_type": "code",
   "execution_count": 24,
   "metadata": {},
   "outputs": [
    {
     "name": "stdout",
     "output_type": "stream",
     "text": [
      "Accuracy: 0.7777777777777778\n"
     ]
    },
    {
     "data": {
      "image/png": "[encoded data removed]",
      "text/plain": [
       "<Figure size 432x288 with 2 Axes>"
      ]
     },
     "metadata": {
      "needs_background": "light"
     },
     "output_type": "display_data"
    }
   ],
   "source": [
    "DT_final = DecisionTreeClassifier(random_state=42, ccp_alpha = ideal_alpha).fit(X_train, y_train)\n",
    "plot_confusion_matrix(DT_final, X_test, y_test, display_labels=['No Hd', 'Yes Hd'])\n",
    "print('Accuracy:', accuracy_score(y_test, DT_final.predict(X_test)))"
   ]
  },
  {
   "cell_type": "markdown",
   "metadata": {},
   "source": [
    "In the confusion matrix we see that of the **46 + 3 = 49** people that did not have hd, **46** where correctly classified **(93.8%)** and from **17 + 24 = 41** people that did have hd, **32** where correctly classified **(41.5%)**. So overall there is a (46 + 24 / 90 = **77.77%** of accuracy) "
   ]
  },
  {
   "cell_type": "code",
   "execution_count": 25,
   "metadata": {},
   "outputs": [
    {
     "data": {
      "image/png": "[encoded data removed]",
      "text/plain": [
       "<Figure size 1080x540 with 1 Axes>"
      ]
     },
     "metadata": {
      "needs_background": "light"
     },
     "output_type": "display_data"
    }
   ],
   "source": [
    "plt.figure(figsize=(15,7.5))\n",
    "plot_tree(DT_final,\n",
    "          filled=True,\n",
    "          rounded=True,\n",
    "          class_names=['No Hd', 'Yes Hd'],\n",
    "          feature_names=X_encoded.columns); # ; is used for not showing the text parameters at the begining"
   ]
  },
  {
   "cell_type": "markdown",
   "metadata": {},
   "source": [
    "Now let's see how to interpret this tree, in each node we have:\n",
    "\n",
    "- The variable column name and the threshold for splitting the observations. For example in the tree's root, we use **ca_0.0** if it is 0 go to the left if it is 1 go to the right. \n",
    "- **GINI** index or score for that node\n",
    "- number of samples\n",
    "- the values or the divisions\n",
    "- **Class** tells us whichever category is represented most in the node, in the root we have almost 50/50 but there are more *No* and therefore the class is No.\n",
    "\n",
    "<div class=\"alert alert-block alert-success\">\n",
    "The leaves are just lie the nodes except that they do not contain a variable and threshold for splitting the obs.\n",
    "</div>\n",
    "\n",
    "<div class=\"alert alert-block alert-info\">\n",
    "    <b>Colors:</b> The colors depend on who has the majority. The reddish boxes have the majority of 'No hd' and the blueish have the majority of 'Yes hd'. The darker the color, the lower the GINI index is, and therefore the better the classification.\n",
    "</div>\n",
    "\n",
    "***\n",
    "\n",
    "# In Conclusion we have...\n",
    "\n",
    "- Imported the Data\n",
    "- Identified and dealt with Missing data\n",
    "- Formatted the data for the Classification Tree\n",
    "- Built a preliminary Classification Tree\n",
    "- Pruned the DT with Cost Complexity prunning\n",
    "\n",
    "- Built, Drew and Interpreted the Final Decision Tree"
   ]
  }
 ],
 "metadata": {
  "kernelspec": {
   "display_name": "Python 3",
   "language": "python",
   "name": "python3"
  },
  "language_info": {
   "codemirror_mode": {
    "name": "ipython",
    "version": 3
   },
   "file_extension": ".py",
   "mimetype": "text/x-python",
   "name": "python",
   "nbconvert_exporter": "python",
   "pygments_lexer": "ipython3",
   "version": "3.8.5"
  }
 },
 "nbformat": 4,
 "nbformat_minor": 4
}
